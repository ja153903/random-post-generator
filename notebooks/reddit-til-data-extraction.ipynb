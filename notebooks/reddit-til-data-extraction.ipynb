{
 "cells": [
  {
   "cell_type": "code",
   "execution_count": 1,
   "metadata": {},
   "outputs": [
    {
     "name": "stdout",
     "output_type": "stream",
     "text": [
      "Requirement already satisfied: praw in /home/jaime/.local/lib/python3.6/site-packages\n",
      "Collecting user\n",
      "\u001b[31m  Could not find a version that satisfies the requirement user (from versions: )\u001b[0m\n",
      "\u001b[31mNo matching distribution found for user\u001b[0m\n",
      "\u001b[33mYou are using pip version 9.0.1, however version 9.0.3 is available.\n",
      "You should consider upgrading via the 'pip install --upgrade pip' command.\u001b[0m\n"
     ]
    }
   ],
   "source": [
    "!pip install praw -- user"
   ]
  },
  {
   "cell_type": "code",
   "execution_count": 1,
   "metadata": {},
   "outputs": [],
   "source": [
    "import pandas as pd\n",
    "import numpy as np\n",
    "import praw"
   ]
  },
  {
   "cell_type": "code",
   "execution_count": 5,
   "metadata": {},
   "outputs": [],
   "source": [
    "class SubredditBot:\n",
    "    def __init__(self):\n",
    "        self.__reddit = praw.Reddit(\n",
    "                        client_id='Fg7Mp55-RljBGw',\n",
    "                        client_secret='zrtsEBfCU2kt5m-e8pRtdhaawgQ',\n",
    "                        user_agent=\"Mozilla/5.0 (X11; Linux x86_64) AppleWebKit/537.36 (KHTML, like Gecko) Chrome/65.0.3325.181 Safari/537.36\")\n",
    "        self.__subreddit_closure = self.__reddit.subreddit\n",
    "        \n",
    "  \n",
    "    def _iter_subreddit(self, subreddit):\n",
    "        # returns an iterator\n",
    "        return self.__subreddit_closure(subreddit)"
   ]
  },
  {
   "cell_type": "code",
   "execution_count": 8,
   "metadata": {},
   "outputs": [],
   "source": [
    "subreddit = SubredditBot()"
   ]
  },
  {
   "cell_type": "code",
   "execution_count": 9,
   "metadata": {},
   "outputs": [
    {
     "name": "stdout",
     "output_type": "stream",
     "text": [
      "TIL of \"Zero\", a soccer stadium in Brazil in which the midfield line is aligned with the Equator - zero latitude, which makes each team defending one hemisphere.\n",
      "TIL If you're bilingual you experience the \"tip-of-the-tongue\" sensation more often, basically because your brain has more words in it to keep track of\n",
      "TIL 9 out of 10 of people who have lost 100 pounds or more say they would rather have a leg amputated than be obese again.\n",
      "TIL in 2016, 'Getty Images' sold some of the 100,000+ photos that had been donated, royalty-free, to the Library of Congress by the original photographer and Getty Images then demanded payment from the photographer, for using the photos she owned. She sued them (unsuccessfully) for over $1 billion.\n",
      "TIL Picasso once famously said: \"It took me four years to paint like Raphael, but a lifetime to paint like a child.\" Researchers hypothesized that this is because early childhood is a period characterized by \"exuberant neural connectivity\" that facilitates \"arbitrary sensory experiences in infants.\"\n",
      "TIL During the Vietnam War the act of \"Fragging\" was when US troops would toss a grenade in their commanding officers tent; known and suspected fragging cases by explosives in Vietnam from 1969 to 1972 totaled nearly 900...\n",
      "TIL The glass of a beer bottle is brown or green to reduce spoilage from light, especially UV.\n",
      "TIL the University of Montreal attempted to conduct a study in 2009 on male pornography consumption but was unable to put together a control group because they were unable to find men who had never watched porn\n",
      "TIL A programmer at Apple kept working for three months after his project was canceled, simply because he thought the work was interesting and wanted to finish. Apple employees helped his cause by sneaking him into the building, and the project (a graphing calculator) was successfully released.\n",
      "TIL that the instant noodle was invented during a period of food shortages in Japan following WWII. After the Japanese health ministry supplied the population with wheat flour and asked them to make bread, Momofuku Ando instead decided on making noodles (which were more familiar) that would last.\n"
     ]
    }
   ],
   "source": [
    "for post in subreddit._iter_subreddit('todayilearned').hot(limit=10):\n",
    "    print(post.title)"
   ]
  },
  {
   "cell_type": "code",
   "execution_count": null,
   "metadata": {},
   "outputs": [],
   "source": []
  }
 ],
 "metadata": {
  "kernelspec": {
   "display_name": "Python 3",
   "language": "python",
   "name": "python3"
  },
  "language_info": {
   "codemirror_mode": {
    "name": "ipython",
    "version": 3
   },
   "file_extension": ".py",
   "mimetype": "text/x-python",
   "name": "python",
   "nbconvert_exporter": "python",
   "pygments_lexer": "ipython3",
   "version": "3.6.4"
  }
 },
 "nbformat": 4,
 "nbformat_minor": 2
}
